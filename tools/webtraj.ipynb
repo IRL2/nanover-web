{
 "cells": [
  {
   "cell_type": "markdown",
   "id": "a6c51d12-0b9a-4fcd-a607-39f00d0c8472",
   "metadata": {},
   "source": [
    "# Convert .traj to webtraj"
   ]
  },
  {
   "cell_type": "code",
   "execution_count": 1,
   "id": "cff89caf-5721-41cf-b477-ad49784f1d4d",
   "metadata": {
    "jupyter": {
     "source_hidden": true
    }
   },
   "outputs": [],
   "source": [
    "# write_webtraj(selection, io)\n",
    "\n",
    "from json import dump\n",
    "from array import array\n",
    "from base64 import b64encode\n",
    "from nanover.mdanalysis.converter import ELEMENT_INDEX\n",
    "\n",
    "def base64(format, values):\n",
    "    return b64encode(array(format, values)).decode(\"UTF-8\")\n",
    "\n",
    "def write_webtraj(selection, io):\n",
    "    universe = selection.universe\n",
    "    \n",
    "    topology = {\n",
    "        \"elements\": base64(\"B\", (ELEMENT_INDEX[e] for e in selection.elements)),\n",
    "        \"bonds\": base64(\"L\", selection.bonds.to_indices().flat),\n",
    "    }\n",
    "    \n",
    "    positions = []\n",
    "    for t in universe.trajectory:\n",
    "        positions.append(base64(\"f\", (c * .1 for c in selection.positions.flat)))\n",
    "    \n",
    "    data = {\n",
    "        \"topology\": topology,\n",
    "        \"positions\": positions,\n",
    "    }\n",
    "\n",
    "    dump(data, io)"
   ]
  },
  {
   "cell_type": "code",
   "execution_count": 2,
   "id": "01f0494f-5f79-4468-9dce-1d605d11c314",
   "metadata": {},
   "outputs": [
    {
     "data": {
      "text/plain": [
       "(<Universe with 23070 atoms>, <AtomGroup with 183 atoms>)"
      ]
     },
     "execution_count": 2,
     "metadata": {},
     "output_type": "execute_result"
    }
   ],
   "source": [
    "from nanover.mdanalysis.universe import universe_from_recording\n",
    "\n",
    "universe = universe_from_recording(traj=\"gluhut_frame_int_1_slower_traj_4ns_4block.traj--SPLIT--1.traj\")\n",
    "selection = universe.select_atoms(\"not resname HOH\")\n",
    "universe, selection"
   ]
  },
  {
   "cell_type": "code",
   "execution_count": null,
   "id": "10a0e922-13e7-47f3-b95c-3cb859bc0547",
   "metadata": {},
   "outputs": [
    {
     "name": "stdout",
     "output_type": "stream",
     "text": [
      "CPU times: total: 16.3 s\n",
      "Wall time: 16.8 s\n"
     ]
    }
   ],
   "source": [
    "%%time\n",
    "with open(f\"webtraj.json\", \"w\") as io:\n",
    "    write_webtraj(selection, io)"
   ]
  }
 ],
 "metadata": {
  "kernelspec": {
   "display_name": "Python 3 (ipykernel)",
   "language": "python",
   "name": "python3"
  },
  "language_info": {
   "codemirror_mode": {
    "name": "ipython",
    "version": 3
   },
   "file_extension": ".py",
   "mimetype": "text/x-python",
   "name": "python",
   "nbconvert_exporter": "python",
   "pygments_lexer": "ipython3",
   "version": "3.12.0"
  }
 },
 "nbformat": 4,
 "nbformat_minor": 5
}
